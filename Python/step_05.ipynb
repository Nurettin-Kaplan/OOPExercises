{
 "cells": [
  {
   "cell_type": "code",
   "execution_count": 31,
   "metadata": {},
   "outputs": [],
   "source": [
    "class Product: \n",
    "    def __init__(self, name, price, quantity):\n",
    "        print(f\"An instance with name: {name} has been derived from Product class.\")\n",
    "        \n",
    "        self.__name = name\n",
    "        self.__price = price\n",
    "        self.__quantity = quantity\n",
    "    \n",
    "    @property\n",
    "    def name(self):\n",
    "        return self.__name\n",
    "    @property\n",
    "    def price(self):\n",
    "        return self.__price\n",
    "    @property\n",
    "    def quantity(self):\n",
    "        return self.__quantity\n",
    "    \n",
    "    @name.setter\n",
    "    def name(self, value):\n",
    "        self.__name = value\n",
    "    @price.setter\n",
    "    def price(self, value):\n",
    "        self.__price = price\n",
    "    @quantity.setter\n",
    "    def quantity(self, value):\n",
    "        self.__quantity = value"
   ]
  },
  {
   "cell_type": "code",
   "execution_count": 32,
   "metadata": {},
   "outputs": [
    {
     "name": "stdout",
     "output_type": "stream",
     "text": [
      "An instance with name: Laptop has been derived from Product class.\n",
      "Laptop\n",
      "799.99\n",
      "2\n"
     ]
    }
   ],
   "source": [
    "item1 = Product(\"Laptop\", 799.99, 2)\n",
    "\n",
    "item1.name = \"HP Laptop\"\n",
    "\n",
    "print(item1.name)\n",
    "print(item1.price)\n",
    "print(item1.quantity)"
   ]
  },
  {
   "cell_type": "code",
   "execution_count": 33,
   "metadata": {},
   "outputs": [
    {
     "name": "stdout",
     "output_type": "stream",
     "text": [
      "<class '__main__.Product'>\n",
      "<class 'str'>\n",
      "<class 'float'>\n",
      "<class 'int'>\n"
     ]
    }
   ],
   "source": [
    "print(type(item1))\n",
    "print(type(item1.name))\n",
    "print(type(item1.price))\n",
    "print(type(item1.quantity))"
   ]
  }
 ],
 "metadata": {
  "kernelspec": {
   "display_name": "Python 3",
   "language": "python",
   "name": "python3"
  },
  "language_info": {
   "codemirror_mode": {
    "name": "ipython",
    "version": 3
   },
   "file_extension": ".py",
   "mimetype": "text/x-python",
   "name": "python",
   "nbconvert_exporter": "python",
   "pygments_lexer": "ipython3",
   "version": "3.12.5"
  }
 },
 "nbformat": 4,
 "nbformat_minor": 2
}
